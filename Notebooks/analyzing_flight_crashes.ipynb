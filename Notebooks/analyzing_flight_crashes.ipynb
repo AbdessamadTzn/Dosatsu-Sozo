{
 "cells": [
  {
   "cell_type": "markdown",
   "id": "cbaaef04-4732-4e32-a804-fedeefe2fa81",
   "metadata": {},
   "source": [
    "![Abdessamd Touzani](banner.png)"
   ]
  },
  {
   "cell_type": "code",
   "execution_count": 1,
   "id": "5c6e7707-9e41-4db8-884a-fde932b7e36f",
   "metadata": {},
   "outputs": [
    {
     "name": "stdout",
     "output_type": "stream",
     "text": [
      "Checked\n"
     ]
    }
   ],
   "source": [
    "import pandas as pd\n",
    "import numpy as np\n",
    "print(\"Checked\")"
   ]
  },
  {
   "cell_type": "raw",
   "id": "b89743f1-d258-43ad-a874-54618b707467",
   "metadata": {},
   "source": [
    "TODO: intorduction..."
   ]
  },
  {
   "cell_type": "markdown",
   "id": "fe118d73-612e-453f-acb5-3db0dea16fc8",
   "metadata": {},
   "source": [
    "**[Documentation for used Data](https://www.kaggle.com/datasets/saurograndi/airplane-crashes-since-1908)**"
   ]
  },
  {
   "cell_type": "markdown",
   "id": "0653794a-413d-4854-8659-24dd61c885cb",
   "metadata": {},
   "source": [
    "## **Import Data**"
   ]
  },
  {
   "cell_type": "code",
   "execution_count": 2,
   "id": "d82a7f04-fd5f-4963-940a-dfa8f677bd23",
   "metadata": {},
   "outputs": [
    {
     "name": "stdout",
     "output_type": "stream",
     "text": [
      "Data read successfully\n"
     ]
    }
   ],
   "source": [
    "df = pd.read_csv('../Data/Airplane_Crashes_and_Fatalities_Since_1908_t0_2023.csv', encoding='ISO-8859-1')\n",
    "print('Data read successfully')"
   ]
  },
  {
   "cell_type": "code",
   "execution_count": 3,
   "id": "a0f29521-b823-4575-bcf1-d0694347336f",
   "metadata": {},
   "outputs": [
    {
     "data": {
      "text/html": [
       "<div>\n",
       "<style scoped>\n",
       "    .dataframe tbody tr th:only-of-type {\n",
       "        vertical-align: middle;\n",
       "    }\n",
       "\n",
       "    .dataframe tbody tr th {\n",
       "        vertical-align: top;\n",
       "    }\n",
       "\n",
       "    .dataframe thead th {\n",
       "        text-align: right;\n",
       "    }\n",
       "</style>\n",
       "<table border=\"1\" class=\"dataframe\">\n",
       "  <thead>\n",
       "    <tr style=\"text-align: right;\">\n",
       "      <th></th>\n",
       "      <th>Date</th>\n",
       "      <th>Time</th>\n",
       "      <th>Location</th>\n",
       "      <th>Operator</th>\n",
       "      <th>Flight #</th>\n",
       "      <th>Route</th>\n",
       "      <th>AC Type</th>\n",
       "      <th>Registration</th>\n",
       "      <th>cn/ln</th>\n",
       "      <th>Aboard</th>\n",
       "      <th>Aboard Passangers</th>\n",
       "      <th>Aboard Crew</th>\n",
       "      <th>Fatalities</th>\n",
       "      <th>Fatalities Passangers</th>\n",
       "      <th>Fatalities Crew</th>\n",
       "      <th>Ground</th>\n",
       "      <th>Summary</th>\n",
       "    </tr>\n",
       "  </thead>\n",
       "  <tbody>\n",
       "    <tr>\n",
       "      <th>0</th>\n",
       "      <td>1908-09-17</td>\n",
       "      <td>17:18</td>\n",
       "      <td>Fort Myer, Virginia</td>\n",
       "      <td>Military - U.S. Army</td>\n",
       "      <td>NaN</td>\n",
       "      <td>Demonstration</td>\n",
       "      <td>Wright Flyer III</td>\n",
       "      <td>NaN</td>\n",
       "      <td>1</td>\n",
       "      <td>2.0</td>\n",
       "      <td>1.0</td>\n",
       "      <td>1.0</td>\n",
       "      <td>1.0</td>\n",
       "      <td>1.0</td>\n",
       "      <td>0.0</td>\n",
       "      <td>0.0</td>\n",
       "      <td>During a demonstration flight, a U.S. Army fly...</td>\n",
       "    </tr>\n",
       "    <tr>\n",
       "      <th>1</th>\n",
       "      <td>1909-09-07</td>\n",
       "      <td>NaN</td>\n",
       "      <td>Juvisy-sur-Orge, France</td>\n",
       "      <td>NaN</td>\n",
       "      <td>NaN</td>\n",
       "      <td>Air show</td>\n",
       "      <td>Wright Byplane</td>\n",
       "      <td>SC1</td>\n",
       "      <td>NaN</td>\n",
       "      <td>1.0</td>\n",
       "      <td>0.0</td>\n",
       "      <td>1.0</td>\n",
       "      <td>1.0</td>\n",
       "      <td>0.0</td>\n",
       "      <td>0.0</td>\n",
       "      <td>0.0</td>\n",
       "      <td>Eugene Lefebvre was the first pilot to ever be...</td>\n",
       "    </tr>\n",
       "    <tr>\n",
       "      <th>2</th>\n",
       "      <td>1912-07-12</td>\n",
       "      <td>6:30</td>\n",
       "      <td>Atlantic City, New Jersey</td>\n",
       "      <td>Military - U.S. Navy</td>\n",
       "      <td>NaN</td>\n",
       "      <td>Test flight</td>\n",
       "      <td>Dirigible</td>\n",
       "      <td>NaN</td>\n",
       "      <td>NaN</td>\n",
       "      <td>5.0</td>\n",
       "      <td>0.0</td>\n",
       "      <td>5.0</td>\n",
       "      <td>5.0</td>\n",
       "      <td>0.0</td>\n",
       "      <td>5.0</td>\n",
       "      <td>0.0</td>\n",
       "      <td>First U.S. dirigible Akron exploded just offsh...</td>\n",
       "    </tr>\n",
       "    <tr>\n",
       "      <th>3</th>\n",
       "      <td>1913-08-06</td>\n",
       "      <td>NaN</td>\n",
       "      <td>Victoria, British Columbia, Canada</td>\n",
       "      <td>Private</td>\n",
       "      <td>NaN</td>\n",
       "      <td>NaN</td>\n",
       "      <td>Curtiss seaplane</td>\n",
       "      <td>NaN</td>\n",
       "      <td>NaN</td>\n",
       "      <td>1.0</td>\n",
       "      <td>0.0</td>\n",
       "      <td>1.0</td>\n",
       "      <td>1.0</td>\n",
       "      <td>0.0</td>\n",
       "      <td>1.0</td>\n",
       "      <td>0.0</td>\n",
       "      <td>The first fatal airplane accident in Canada oc...</td>\n",
       "    </tr>\n",
       "    <tr>\n",
       "      <th>4</th>\n",
       "      <td>1913-09-09</td>\n",
       "      <td>18:30</td>\n",
       "      <td>Over the North Sea</td>\n",
       "      <td>Military - German Navy</td>\n",
       "      <td>NaN</td>\n",
       "      <td>NaN</td>\n",
       "      <td>Zeppelin L-1 (airship)</td>\n",
       "      <td>NaN</td>\n",
       "      <td>NaN</td>\n",
       "      <td>20.0</td>\n",
       "      <td>NaN</td>\n",
       "      <td>NaN</td>\n",
       "      <td>14.0</td>\n",
       "      <td>NaN</td>\n",
       "      <td>NaN</td>\n",
       "      <td>0.0</td>\n",
       "      <td>The airship flew into a thunderstorm and encou...</td>\n",
       "    </tr>\n",
       "  </tbody>\n",
       "</table>\n",
       "</div>"
      ],
      "text/plain": [
       "         Date   Time                            Location  \\\n",
       "0  1908-09-17  17:18                 Fort Myer, Virginia   \n",
       "1  1909-09-07    NaN             Juvisy-sur-Orge, France   \n",
       "2  1912-07-12   6:30           Atlantic City, New Jersey   \n",
       "3  1913-08-06    NaN  Victoria, British Columbia, Canada   \n",
       "4  1913-09-09  18:30                  Over the North Sea   \n",
       "\n",
       "                 Operator Flight #          Route                 AC Type  \\\n",
       "0    Military - U.S. Army      NaN  Demonstration        Wright Flyer III   \n",
       "1                     NaN      NaN       Air show          Wright Byplane   \n",
       "2    Military - U.S. Navy      NaN    Test flight               Dirigible   \n",
       "3                 Private      NaN            NaN        Curtiss seaplane   \n",
       "4  Military - German Navy      NaN            NaN  Zeppelin L-1 (airship)   \n",
       "\n",
       "  Registration cn/ln  Aboard  Aboard Passangers  Aboard Crew  Fatalities  \\\n",
       "0          NaN     1     2.0                1.0          1.0         1.0   \n",
       "1          SC1   NaN     1.0                0.0          1.0         1.0   \n",
       "2          NaN   NaN     5.0                0.0          5.0         5.0   \n",
       "3          NaN   NaN     1.0                0.0          1.0         1.0   \n",
       "4          NaN   NaN    20.0                NaN          NaN        14.0   \n",
       "\n",
       "   Fatalities Passangers  Fatalities Crew  Ground  \\\n",
       "0                    1.0              0.0     0.0   \n",
       "1                    0.0              0.0     0.0   \n",
       "2                    0.0              5.0     0.0   \n",
       "3                    0.0              1.0     0.0   \n",
       "4                    NaN              NaN     0.0   \n",
       "\n",
       "                                             Summary  \n",
       "0  During a demonstration flight, a U.S. Army fly...  \n",
       "1  Eugene Lefebvre was the first pilot to ever be...  \n",
       "2  First U.S. dirigible Akron exploded just offsh...  \n",
       "3  The first fatal airplane accident in Canada oc...  \n",
       "4  The airship flew into a thunderstorm and encou...  "
      ]
     },
     "execution_count": 3,
     "metadata": {},
     "output_type": "execute_result"
    }
   ],
   "source": [
    "df.head()"
   ]
  },
  {
   "cell_type": "markdown",
   "id": "fa4b91fb-49bf-4c65-8809-c48b82406494",
   "metadata": {
    "jp-MarkdownHeadingCollapsed": true
   },
   "source": [
    "## **I) Data Cleaning:**"
   ]
  },
  {
   "cell_type": "markdown",
   "id": "ed55bf89-d9f6-4629-b8f0-aa35ce47c92e",
   "metadata": {},
   "source": [
    "### 1) Handle missing values:"
   ]
  },
  {
   "cell_type": "code",
   "execution_count": 4,
   "id": "2829435c-85b5-4d4f-8880-c9063fdc4158",
   "metadata": {},
   "outputs": [
    {
     "name": "stdout",
     "output_type": "stream",
     "text": [
      "Data shape:  (4998, 17)\n"
     ]
    },
    {
     "data": {
      "text/plain": [
       "Date                        0\n",
       "Time                     1512\n",
       "Location                    4\n",
       "Operator                   10\n",
       "Flight #                 3669\n",
       "Route                     777\n",
       "AC Type                    15\n",
       "Registration              274\n",
       "cn/ln                     668\n",
       "Aboard                     18\n",
       "Aboard Passangers         229\n",
       "Aboard Crew               226\n",
       "Fatalities                  8\n",
       "Fatalities Passangers     242\n",
       "Fatalities Crew           241\n",
       "Ground                     42\n",
       "Summary                    64\n",
       "dtype: int64"
      ]
     },
     "execution_count": 4,
     "metadata": {},
     "output_type": "execute_result"
    }
   ],
   "source": [
    "print(\"Data shape: \", df.shape)\n",
    "df.isnull().sum()"
   ]
  },
  {
   "cell_type": "markdown",
   "id": "630d441d-8a46-4a6a-a31e-eecadadda156",
   "metadata": {},
   "source": [
    "--> As we can see at first sight,for flight number almost all rows are null, so I will just remove that column."
   ]
  },
  {
   "cell_type": "code",
   "execution_count": 5,
   "id": "4b9ce1f6-f8e1-40af-92f5-16405c0d0d6f",
   "metadata": {},
   "outputs": [
    {
     "data": {
      "text/html": [
       "<div>\n",
       "<style scoped>\n",
       "    .dataframe tbody tr th:only-of-type {\n",
       "        vertical-align: middle;\n",
       "    }\n",
       "\n",
       "    .dataframe tbody tr th {\n",
       "        vertical-align: top;\n",
       "    }\n",
       "\n",
       "    .dataframe thead th {\n",
       "        text-align: right;\n",
       "    }\n",
       "</style>\n",
       "<table border=\"1\" class=\"dataframe\">\n",
       "  <thead>\n",
       "    <tr style=\"text-align: right;\">\n",
       "      <th></th>\n",
       "      <th>Date</th>\n",
       "      <th>Time</th>\n",
       "      <th>Location</th>\n",
       "      <th>Operator</th>\n",
       "      <th>Route</th>\n",
       "      <th>AC Type</th>\n",
       "      <th>Registration</th>\n",
       "      <th>cn/ln</th>\n",
       "      <th>Aboard</th>\n",
       "      <th>Aboard Passangers</th>\n",
       "      <th>Aboard Crew</th>\n",
       "      <th>Fatalities</th>\n",
       "      <th>Fatalities Passangers</th>\n",
       "      <th>Fatalities Crew</th>\n",
       "      <th>Ground</th>\n",
       "      <th>Summary</th>\n",
       "    </tr>\n",
       "  </thead>\n",
       "  <tbody>\n",
       "    <tr>\n",
       "      <th>0</th>\n",
       "      <td>1908-09-17</td>\n",
       "      <td>17:18</td>\n",
       "      <td>Fort Myer, Virginia</td>\n",
       "      <td>Military - U.S. Army</td>\n",
       "      <td>Demonstration</td>\n",
       "      <td>Wright Flyer III</td>\n",
       "      <td>NaN</td>\n",
       "      <td>1</td>\n",
       "      <td>2.0</td>\n",
       "      <td>1.0</td>\n",
       "      <td>1.0</td>\n",
       "      <td>1.0</td>\n",
       "      <td>1.0</td>\n",
       "      <td>0.0</td>\n",
       "      <td>0.0</td>\n",
       "      <td>During a demonstration flight, a U.S. Army fly...</td>\n",
       "    </tr>\n",
       "    <tr>\n",
       "      <th>1</th>\n",
       "      <td>1909-09-07</td>\n",
       "      <td>NaN</td>\n",
       "      <td>Juvisy-sur-Orge, France</td>\n",
       "      <td>NaN</td>\n",
       "      <td>Air show</td>\n",
       "      <td>Wright Byplane</td>\n",
       "      <td>SC1</td>\n",
       "      <td>NaN</td>\n",
       "      <td>1.0</td>\n",
       "      <td>0.0</td>\n",
       "      <td>1.0</td>\n",
       "      <td>1.0</td>\n",
       "      <td>0.0</td>\n",
       "      <td>0.0</td>\n",
       "      <td>0.0</td>\n",
       "      <td>Eugene Lefebvre was the first pilot to ever be...</td>\n",
       "    </tr>\n",
       "    <tr>\n",
       "      <th>2</th>\n",
       "      <td>1912-07-12</td>\n",
       "      <td>6:30</td>\n",
       "      <td>Atlantic City, New Jersey</td>\n",
       "      <td>Military - U.S. Navy</td>\n",
       "      <td>Test flight</td>\n",
       "      <td>Dirigible</td>\n",
       "      <td>NaN</td>\n",
       "      <td>NaN</td>\n",
       "      <td>5.0</td>\n",
       "      <td>0.0</td>\n",
       "      <td>5.0</td>\n",
       "      <td>5.0</td>\n",
       "      <td>0.0</td>\n",
       "      <td>5.0</td>\n",
       "      <td>0.0</td>\n",
       "      <td>First U.S. dirigible Akron exploded just offsh...</td>\n",
       "    </tr>\n",
       "    <tr>\n",
       "      <th>3</th>\n",
       "      <td>1913-08-06</td>\n",
       "      <td>NaN</td>\n",
       "      <td>Victoria, British Columbia, Canada</td>\n",
       "      <td>Private</td>\n",
       "      <td>NaN</td>\n",
       "      <td>Curtiss seaplane</td>\n",
       "      <td>NaN</td>\n",
       "      <td>NaN</td>\n",
       "      <td>1.0</td>\n",
       "      <td>0.0</td>\n",
       "      <td>1.0</td>\n",
       "      <td>1.0</td>\n",
       "      <td>0.0</td>\n",
       "      <td>1.0</td>\n",
       "      <td>0.0</td>\n",
       "      <td>The first fatal airplane accident in Canada oc...</td>\n",
       "    </tr>\n",
       "    <tr>\n",
       "      <th>4</th>\n",
       "      <td>1913-09-09</td>\n",
       "      <td>18:30</td>\n",
       "      <td>Over the North Sea</td>\n",
       "      <td>Military - German Navy</td>\n",
       "      <td>NaN</td>\n",
       "      <td>Zeppelin L-1 (airship)</td>\n",
       "      <td>NaN</td>\n",
       "      <td>NaN</td>\n",
       "      <td>20.0</td>\n",
       "      <td>NaN</td>\n",
       "      <td>NaN</td>\n",
       "      <td>14.0</td>\n",
       "      <td>NaN</td>\n",
       "      <td>NaN</td>\n",
       "      <td>0.0</td>\n",
       "      <td>The airship flew into a thunderstorm and encou...</td>\n",
       "    </tr>\n",
       "  </tbody>\n",
       "</table>\n",
       "</div>"
      ],
      "text/plain": [
       "         Date   Time                            Location  \\\n",
       "0  1908-09-17  17:18                 Fort Myer, Virginia   \n",
       "1  1909-09-07    NaN             Juvisy-sur-Orge, France   \n",
       "2  1912-07-12   6:30           Atlantic City, New Jersey   \n",
       "3  1913-08-06    NaN  Victoria, British Columbia, Canada   \n",
       "4  1913-09-09  18:30                  Over the North Sea   \n",
       "\n",
       "                 Operator          Route                 AC Type Registration  \\\n",
       "0    Military - U.S. Army  Demonstration        Wright Flyer III          NaN   \n",
       "1                     NaN       Air show          Wright Byplane          SC1   \n",
       "2    Military - U.S. Navy    Test flight               Dirigible          NaN   \n",
       "3                 Private            NaN        Curtiss seaplane          NaN   \n",
       "4  Military - German Navy            NaN  Zeppelin L-1 (airship)          NaN   \n",
       "\n",
       "  cn/ln  Aboard  Aboard Passangers  Aboard Crew  Fatalities  \\\n",
       "0     1     2.0                1.0          1.0         1.0   \n",
       "1   NaN     1.0                0.0          1.0         1.0   \n",
       "2   NaN     5.0                0.0          5.0         5.0   \n",
       "3   NaN     1.0                0.0          1.0         1.0   \n",
       "4   NaN    20.0                NaN          NaN        14.0   \n",
       "\n",
       "   Fatalities Passangers  Fatalities Crew  Ground  \\\n",
       "0                    1.0              0.0     0.0   \n",
       "1                    0.0              0.0     0.0   \n",
       "2                    0.0              5.0     0.0   \n",
       "3                    0.0              1.0     0.0   \n",
       "4                    NaN              NaN     0.0   \n",
       "\n",
       "                                             Summary  \n",
       "0  During a demonstration flight, a U.S. Army fly...  \n",
       "1  Eugene Lefebvre was the first pilot to ever be...  \n",
       "2  First U.S. dirigible Akron exploded just offsh...  \n",
       "3  The first fatal airplane accident in Canada oc...  \n",
       "4  The airship flew into a thunderstorm and encou...  "
      ]
     },
     "execution_count": 5,
     "metadata": {},
     "output_type": "execute_result"
    }
   ],
   "source": [
    "df.drop(['Flight #'], axis = 1, inplace = True)\n",
    "df.head(5)"
   ]
  },
  {
   "cell_type": "code",
   "execution_count": 6,
   "id": "da9c74b8-ad76-4d90-b1ef-34a825221d47",
   "metadata": {},
   "outputs": [
    {
     "data": {
      "text/plain": [
       "(4998, 16)"
      ]
     },
     "execution_count": 6,
     "metadata": {},
     "output_type": "execute_result"
    }
   ],
   "source": [
    "df.shape"
   ]
  },
  {
   "cell_type": "markdown",
   "id": "1e760ece-c72b-4f03-bb3b-c3154e5ba594",
   "metadata": {},
   "source": [
    "--> The column is dropped successfuly"
   ]
  },
  {
   "cell_type": "markdown",
   "id": "2dedf042-ca00-493b-9a57-568553fa12aa",
   "metadata": {},
   "source": [
    "Now, I will group data into 2 categories (From IBM Data Science course), continuous attributes that I will replace by the mean, and caategorical aattributes tht I will replace by the most frequence value\n",
    "- Continuous attributes:\n",
    "  - Aboard\n",
    "  - Aboard Passangers\n",
    "  - Aboard Crew\n",
    "  - Fatalities\n",
    "  - Fatalities Passaangers\n",
    "  - Fatalities Crew\n",
    "  - Ground\n",
    "- Categorical attributes:\n",
    "  - Location\n",
    "  - Operator\n",
    "  - Route\n",
    "  - AC Type\n",
    "  - Registration\n",
    "  - cn/ln\n",
    "  - Summary"
   ]
  },
  {
   "cell_type": "markdown",
   "id": "6773deb9-50ac-4ba0-90e7-37ae86e103d6",
   "metadata": {},
   "source": [
    "- **There is no null values for Date**\n",
    "- **For the time, at this stage I don't see any use of it in futur analysis, because crashes are not strongly relatable with a specific time of the day, even tho it still can, in seasons like Falls and Winter...**\n",
    "--\n",
    "- ***But still can use, depends on analysis progress:***\n",
    "  - *Forward Fill (ffill()) or Backward Fill (bfill())*\n",
    "  - *Linear Interpolation*"
   ]
  },
  {
   "cell_type": "raw",
   "id": "104b594f-9337-406e-9652-4e2f7f95bc45",
   "metadata": {},
   "source": [
    "df.isnull().sum()"
   ]
  },
  {
   "cell_type": "markdown",
   "id": "39fae738-be00-4046-a36e-485c7f1bb6aa",
   "metadata": {},
   "source": [
    "### *for continuous attributes:*"
   ]
  },
  {
   "cell_type": "raw",
   "id": "a9074c86-0ac4-4d7c-8856-b5b7ead5dd80",
   "metadata": {},
   "source": [
    "#Aboard -- set it as needed to explore how null values are represented\n",
    "pd.set_option('display.max_rows', 4000)\n",
    "df['Aboard'].head(4000)"
   ]
  },
  {
   "cell_type": "code",
   "execution_count": 7,
   "id": "26906435-299a-4706-8ff3-c4d8977a50d7",
   "metadata": {},
   "outputs": [
    {
     "name": "stdout",
     "output_type": "stream",
     "text": [
      "Aboard null values:  0\n"
     ]
    }
   ],
   "source": [
    "#Aboard\n",
    "#Calculate mean of Aboard\n",
    "aboard_mean = df['Aboard'].mean()\n",
    "#Replace NaN with the mean - import numpy for it\n",
    "df['Aboard'].replace(np.NaN, aboard_mean, inplace = True)\n",
    "print(\"Aboard null values: \", df['Aboard'].isnull().sum())"
   ]
  },
  {
   "cell_type": "raw",
   "id": "8f9fe20f-5471-48ea-b0e7-634888659c19",
   "metadata": {},
   "source": [
    "--> we will do  the same for the other continuous variables. TODO..."
   ]
  },
  {
   "cell_type": "code",
   "execution_count": 8,
   "id": "150b2b0f-dc34-45fb-b1e7-8a6eaeb423e5",
   "metadata": {},
   "outputs": [
    {
     "name": "stdout",
     "output_type": "stream",
     "text": [
      "Aboard Passangers null values:  0\n"
     ]
    }
   ],
   "source": [
    "#Aboard Passangers\n",
    "aboardPassangers_mean = df['Aboard Passangers'].mean()\n",
    "df['Aboard Passangers'].replace(np.NaN, aboardPassangers_mean, inplace = True)\n",
    "print(\"Aboard Passangers null values: \", df['Aboard Passangers'].isnull().sum())"
   ]
  },
  {
   "cell_type": "code",
   "execution_count": 9,
   "id": "56a64d94-3707-4125-be05-25d235ae1e6a",
   "metadata": {},
   "outputs": [
    {
     "name": "stdout",
     "output_type": "stream",
     "text": [
      "Aboard Crew null values:  0\n"
     ]
    }
   ],
   "source": [
    "#Aboard Crew\n",
    "aboardCrew_mean = df['Aboard Crew'].mean()\n",
    "df['Aboard Crew'].replace(np.NaN, aboardCrew_mean, inplace = True)\n",
    "print(\"Aboard Crew null values: \", df['Aboard Crew'].isnull().sum())"
   ]
  },
  {
   "cell_type": "code",
   "execution_count": 10,
   "id": "0c893c6a-6fce-47fe-96d8-2691271f309e",
   "metadata": {},
   "outputs": [
    {
     "name": "stdout",
     "output_type": "stream",
     "text": [
      "Fatalities null values:  0\n"
     ]
    }
   ],
   "source": [
    "#Fatalities\n",
    "fatalities_mean = df['Fatalities'].mean()\n",
    "df['Fatalities'].replace(np.NaN, fatalities_mean, inplace = True)\n",
    "print(\"Fatalities null values: \", df['Fatalities'].isnull().sum())"
   ]
  },
  {
   "cell_type": "code",
   "execution_count": 11,
   "id": "4d4b6b60-ec53-4ccf-8a42-0ebf15fb90fc",
   "metadata": {},
   "outputs": [
    {
     "name": "stdout",
     "output_type": "stream",
     "text": [
      "Fatalities Passangers null values:  0\n"
     ]
    }
   ],
   "source": [
    "#Fatalities Passengers\n",
    "fatalitiesPassangers_mean = df['Fatalities Passangers'].mean()\n",
    "df['Fatalities Passangers'].replace(np.NaN, fatalitiesPassangers_mean, inplace = True)\n",
    "print(\"Fatalities Passangers null values: \", df['Fatalities Passangers'].isnull().sum())"
   ]
  },
  {
   "cell_type": "code",
   "execution_count": 12,
   "id": "e388abe4-ecde-4611-ae26-1b240d9c2a87",
   "metadata": {},
   "outputs": [
    {
     "name": "stdout",
     "output_type": "stream",
     "text": [
      "Fatalities Passangers null values:  0\n"
     ]
    }
   ],
   "source": [
    "#Fatalities Crew\n",
    "fatalitiesCrew_mean = df['Fatalities Crew'].mean()\n",
    "df['Fatalities Crew'].replace(np.NaN, fatalitiesCrew_mean, inplace = True)\n",
    "print(\"Fatalities Passangers null values: \", df['Fatalities Crew'].isnull().sum())"
   ]
  },
  {
   "cell_type": "code",
   "execution_count": 13,
   "id": "c5272c4d-1310-4ae7-93cc-828d6e17207e",
   "metadata": {},
   "outputs": [
    {
     "name": "stdout",
     "output_type": "stream",
     "text": [
      "Ground null values:  0\n"
     ]
    }
   ],
   "source": [
    "#Ground\n",
    "ground_mean = df['Ground'].mean()\n",
    "df['Ground'].replace(np.NaN, ground_mean, inplace = True)\n",
    "print(\"Ground null values: \", df['Ground'].isnull().sum())"
   ]
  },
  {
   "cell_type": "markdown",
   "id": "2c206c90-8996-453c-bf34-00b2a1f13ce6",
   "metadata": {},
   "source": [
    "### *for categorical attributes:*"
   ]
  },
  {
   "cell_type": "raw",
   "id": "d34d1601-18ba-443b-b56d-b4e1e7f786c4",
   "metadata": {},
   "source": [
    "I will replace them with the most frequent value, using value_counts().idxmax or mode()[0].\n",
    "In this project, I will use the mode."
   ]
  },
  {
   "cell_type": "raw",
   "id": "6288ed3a-929e-4357-8cc7-0fe20e60a14a",
   "metadata": {},
   "source": [
    "- Categorical attributes:\n",
    "  - Location\n",
    "  - Operator\n",
    "  - Route\n",
    "  - AC Type\n",
    "  - Registration\n",
    "  - cn/ln\n",
    "  - Summary"
   ]
  },
  {
   "cell_type": "code",
   "execution_count": 14,
   "id": "3cfa7986-580b-4b37-9b1d-cd970dd375ef",
   "metadata": {},
   "outputs": [
    {
     "name": "stdout",
     "output_type": "stream",
     "text": [
      "Location null values:  4\n",
      "Location null values:  0\n"
     ]
    }
   ],
   "source": [
    "#Location\n",
    "#Calculate most frequent value\n",
    "print(\"Location null values: \", df['Location'].isnull().sum())\n",
    "location_maxFreq = df['Location'].mode()[0]\n",
    "#Replace NaN with the mean - import numpy for it\n",
    "df['Location'].fillna(value=location_maxFreq, inplace=True)\n",
    "print(\"Location null values: \", df['Location'].isnull().sum())"
   ]
  },
  {
   "cell_type": "code",
   "execution_count": 15,
   "id": "5dc1db5f-cb95-4d62-a98e-ced7203e8269",
   "metadata": {},
   "outputs": [
    {
     "name": "stdout",
     "output_type": "stream",
     "text": [
      "Operator null values:  10\n",
      "Operator null values:  0\n"
     ]
    }
   ],
   "source": [
    "#Operator\n",
    "print(\"Operator null values: \", df['Operator'].isnull().sum())\n",
    "operator_maxFreq = df['Operator'].mode()[0]\n",
    "df['Operator'].fillna(value=operator_maxFreq, inplace=True)\n",
    "print(\"Operator null values: \", df['Operator'].isnull().sum())"
   ]
  },
  {
   "cell_type": "code",
   "execution_count": 16,
   "id": "95029bd1-934a-42f4-b550-d04598652ffc",
   "metadata": {},
   "outputs": [
    {
     "name": "stdout",
     "output_type": "stream",
     "text": [
      "Route null values:  777\n",
      "Training\n",
      "Route null values:  0\n"
     ]
    }
   ],
   "source": [
    "#Route\n",
    "print(\"Route null values: \", df['Route'].isnull().sum())\n",
    "route_maxFreq = df['Route'].mode()[0]\n",
    "print(route_maxFreq)\n",
    "df['Route'].fillna(value=route_maxFreq, inplace=True)\n",
    "print(\"Route null values: \", df['Route'].isnull().sum())"
   ]
  },
  {
   "cell_type": "code",
   "execution_count": 17,
   "id": "36b23683-0a82-4980-b621-98fb365a53c5",
   "metadata": {},
   "outputs": [
    {
     "name": "stdout",
     "output_type": "stream",
     "text": [
      "AC Type null values:  15\n",
      "Frequent value:  Douglas DC-3\n",
      "AC Type null values:  0\n"
     ]
    }
   ],
   "source": [
    "#AC Type\n",
    "print(\"AC Type null values: \", df['AC Type'].isnull().sum())\n",
    "ACType_maxFreq = df['AC Type'].mode()[0]\n",
    "print(\"Frequent value: \",ACType_maxFreq)\n",
    "df['AC Type'].fillna(value=ACType_maxFreq, inplace=True)\n",
    "print(\"AC Type null values: \", df['AC Type'].isnull().sum())"
   ]
  },
  {
   "cell_type": "code",
   "execution_count": 18,
   "id": "d6474af1-9f79-4534-ba2c-5087a26b12a5",
   "metadata": {},
   "outputs": [
    {
     "name": "stdout",
     "output_type": "stream",
     "text": [
      "Registration null values:  274\n",
      "Frequent value:  19\n",
      "Registration null values:  0\n"
     ]
    }
   ],
   "source": [
    "#Registration\n",
    "print(\"Registration null values: \", df['Registration'].isnull().sum())\n",
    "registration_maxFreq = df['Registration'].mode()[0]\n",
    "print(\"Frequent value: \",registration_maxFreq)\n",
    "df['Registration'].fillna(value=registration_maxFreq, inplace=True)\n",
    "print(\"Registration null values: \", df['Registration'].isnull().sum())"
   ]
  },
  {
   "cell_type": "code",
   "execution_count": 20,
   "id": "e1511bea-4546-4e5d-b989-edc46d5165da",
   "metadata": {},
   "outputs": [
    {
     "name": "stdout",
     "output_type": "stream",
     "text": [
      "cn/ln null values:  668\n",
      "Frequent value:  1\n",
      "cn/ln null values:  0\n"
     ]
    }
   ],
   "source": [
    "#cn/ln\n",
    "print(\"cn/ln null values: \", df['cn/ln'].isnull().sum())\n",
    "CnLn_maxFreq = df['cn/ln'].mode()[0]\n",
    "print(\"Frequent value: \",CnLn_maxFreq)\n",
    "df['cn/ln'].fillna(value=CnLn_maxFreq, inplace=True)\n",
    "print(\"cn/ln null values: \", df['cn/ln'].isnull().sum())"
   ]
  },
  {
   "cell_type": "code",
   "execution_count": 22,
   "id": "5030e035-add3-4466-9af0-7ad8388d446f",
   "metadata": {},
   "outputs": [
    {
     "data": {
      "text/plain": [
       "64"
      ]
     },
     "execution_count": 22,
     "metadata": {},
     "output_type": "execute_result"
    }
   ],
   "source": [
    "df['Summary'].isnull().sum()"
   ]
  },
  {
   "cell_type": "code",
   "execution_count": 23,
   "id": "65426d10-6197-439b-885e-3594b27c239b",
   "metadata": {},
   "outputs": [
    {
     "data": {
      "text/plain": [
       "'Crashed under unknown circumstances.'"
      ]
     },
     "execution_count": 23,
     "metadata": {},
     "output_type": "execute_result"
    }
   ],
   "source": [
    "df['Summary'].mode()[0]"
   ]
  },
  {
   "cell_type": "code",
   "execution_count": 24,
   "id": "04d5e87d-7065-4919-9e94-7be38d77cc19",
   "metadata": {},
   "outputs": [
    {
     "name": "stdout",
     "output_type": "stream",
     "text": [
      "Summary null values:  64\n",
      "Frequent value:  1\n",
      "Summary null values:  0\n"
     ]
    }
   ],
   "source": [
    "#Summary\n",
    "#From previous line, the most frequent value looks better than keeping the null data\n",
    "print(\"Summary null values: \", df['Summary'].isnull().sum())\n",
    "summary_maxFreq = df['Summary'].mode()[0]\n",
    "print(\"Frequent value: \",CnLn_maxFreq)\n",
    "df['Summary'].fillna(value=summary_maxFreq, inplace=True)\n",
    "print(\"Summary null values: \", df['Summary'].isnull().sum())"
   ]
  },
  {
   "cell_type": "markdown",
   "id": "9090a528-1cb6-4ff7-9438-6770e2c37bd3",
   "metadata": {},
   "source": [
    "**For the time, aat this stage I don't see any use of it in futur analysis, because crashes are not strogly relatable with a specific time of the day, even tho it still can, in seasons like Falls and Winter...**"
   ]
  },
  {
   "cell_type": "raw",
   "id": "722a8729-89a1-4fa7-83b6-9fc98482b6d9",
   "metadata": {},
   "source": [
    "### 2) Convert relevant columns to the appropriate data types:"
   ]
  },
  {
   "cell_type": "raw",
   "id": "ff161949-7634-43e1-b3fd-4558539f641c",
   "metadata": {},
   "source": [
    "### 3) Check for and handle duplicate entries:"
   ]
  },
  {
   "cell_type": "markdown",
   "id": "6d9ed566-7654-41ce-a6b4-18bdb81e4744",
   "metadata": {},
   "source": [
    "## **By: [Abdessamad Touzani](https://www.linkedin.com/in/abdessamadtouzani/)**"
   ]
  }
 ],
 "metadata": {
  "kernelspec": {
   "display_name": "Python 3 (ipykernel)",
   "language": "python",
   "name": "python3"
  },
  "language_info": {
   "codemirror_mode": {
    "name": "ipython",
    "version": 3
   },
   "file_extension": ".py",
   "mimetype": "text/x-python",
   "name": "python",
   "nbconvert_exporter": "python",
   "pygments_lexer": "ipython3",
   "version": "3.11.5"
  }
 },
 "nbformat": 4,
 "nbformat_minor": 5
}
